{
 "cells": [
  {
   "cell_type": "markdown",
   "id": "e98dcd8a-472e-4dc9-89f4-d59e76ec45cd",
   "metadata": {},
   "source": [
    "if Statements"
   ]
  },
  {
   "cell_type": "markdown",
   "id": "778344da-5700-49fe-b429-e87a144cb8d2",
   "metadata": {},
   "source": [
    "if some_condition:\n",
    "    # execute some code"
   ]
  },
  {
   "cell_type": "code",
   "execution_count": 28,
   "id": "c384aee0-4acd-42cf-8ebc-f824264ead19",
   "metadata": {},
   "outputs": [
    {
     "name": "stdout",
     "output_type": "stream",
     "text": [
      "Welcome to my world\n"
     ]
    }
   ],
   "source": [
    "if True:\n",
    "    print('Welcome to my world')"
   ]
  },
  {
   "cell_type": "code",
   "execution_count": 29,
   "id": "6c993ab2-f780-4d8b-8c1f-38bca260d98d",
   "metadata": {},
   "outputs": [
    {
     "name": "stdout",
     "output_type": "stream",
     "text": [
      "I do not recognize this user\n"
     ]
    }
   ],
   "source": [
    "Jamieson = False\n",
    "\n",
    "if Jamieson:\n",
    "    print('Welcome Jamieson')\n",
    "else:\n",
    "    print('I do not recognize this user')"
   ]
  },
  {
   "cell_type": "code",
   "execution_count": 36,
   "id": "d3ee8845-d415-4906-b509-414e43632c57",
   "metadata": {},
   "outputs": [],
   "source": [
    "x = 'Oiza'"
   ]
  },
  {
   "cell_type": "code",
   "execution_count": 51,
   "id": "251b2a03-cd32-440d-9b5e-89da76fe497c",
   "metadata": {},
   "outputs": [
    {
     "name": "stdout",
     "output_type": "stream",
     "text": [
      "Welcome Emmanuel Okoh\n"
     ]
    }
   ],
   "source": [
    "user = 'Emmanuel Okoh'\n",
    "\n",
    "if user == 'Emmanuel Okoh':\n",
    "    print('Welcome Emmanuel Okoh')\n",
    "elif user == 'Emmanuel':\n",
    "    print('Type in your last name')\n",
    "elif user == 'Okoh':\n",
    "    print('Type in your first name')\n",
    "else:\n",
    "    print('I do not recognize this name')"
   ]
  },
  {
   "cell_type": "code",
   "execution_count": null,
   "id": "dc7235b4-3b37-431e-87b6-03a7966a6308",
   "metadata": {},
   "outputs": [],
   "source": []
  },
  {
   "cell_type": "code",
   "execution_count": null,
   "id": "2b68739a-8acb-4b2c-b06e-79ed5ccfad74",
   "metadata": {},
   "outputs": [],
   "source": []
  },
  {
   "cell_type": "code",
   "execution_count": null,
   "id": "66c95283-4cab-4330-a45c-0c896777929c",
   "metadata": {},
   "outputs": [],
   "source": []
  },
  {
   "cell_type": "code",
   "execution_count": null,
   "id": "e25d2d9f-73f2-4eac-81cd-0477aed8456b",
   "metadata": {},
   "outputs": [],
   "source": []
  }
 ],
 "metadata": {
  "kernelspec": {
   "display_name": "Python [conda env:base] *",
   "language": "python",
   "name": "conda-base-py"
  },
  "language_info": {
   "codemirror_mode": {
    "name": "ipython",
    "version": 3
   },
   "file_extension": ".py",
   "mimetype": "text/x-python",
   "name": "python",
   "nbconvert_exporter": "python",
   "pygments_lexer": "ipython3",
   "version": "3.12.7"
  }
 },
 "nbformat": 4,
 "nbformat_minor": 5
}
