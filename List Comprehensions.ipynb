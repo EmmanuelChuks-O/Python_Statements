{
 "cells": [
  {
   "cell_type": "markdown",
   "id": "11a7b571-cc07-4662-bff9-a1597d3f5417",
   "metadata": {},
   "source": [
    "List Comprehensions"
   ]
  },
  {
   "cell_type": "code",
   "execution_count": 1,
   "id": "8fb6ba02-08d5-43e4-a613-7cd062071ab5",
   "metadata": {},
   "outputs": [],
   "source": [
    "mystring = 'Emmmanuel Okoh'"
   ]
  },
  {
   "cell_type": "code",
   "execution_count": 2,
   "id": "9c99f1bc-0d17-4e82-bfbd-a4913afa97c8",
   "metadata": {},
   "outputs": [],
   "source": [
    "mylist = []\n",
    "\n",
    "for letter in mystring:\n",
    "    mylist.append(letter)"
   ]
  },
  {
   "cell_type": "code",
   "execution_count": 3,
   "id": "780ae517-5da9-42bf-aae0-e8def589c6b0",
   "metadata": {},
   "outputs": [
    {
     "data": {
      "text/plain": [
       "['E', 'm', 'm', 'm', 'a', 'n', 'u', 'e', 'l', ' ', 'O', 'k', 'o', 'h']"
      ]
     },
     "execution_count": 3,
     "metadata": {},
     "output_type": "execute_result"
    }
   ],
   "source": [
    "mylist"
   ]
  },
  {
   "cell_type": "code",
   "execution_count": 4,
   "id": "818d1527-067e-4190-9721-c1a83ab07b2b",
   "metadata": {},
   "outputs": [
    {
     "name": "stdout",
     "output_type": "stream",
     "text": [
      "['E', 'm', 'm', 'm', 'a', 'n', 'u', 'e', 'l', ' ', 'O', 'k', 'o', 'h']\n"
     ]
    }
   ],
   "source": [
    "mylist = [letter for letter in mystring]\n",
    "print(mylist)"
   ]
  },
  {
   "cell_type": "code",
   "execution_count": 5,
   "id": "0ed884b8-2db5-4892-85b6-0260f3743992",
   "metadata": {},
   "outputs": [],
   "source": [
    "myfirst_lastname = 'Emmanuel Okoh'"
   ]
  },
  {
   "cell_type": "code",
   "execution_count": 6,
   "id": "a1378c4a-a559-4a41-b80c-83bfc23ee0a5",
   "metadata": {},
   "outputs": [],
   "source": [
    "myidentity = []\n",
    "\n",
    "for letter in myfirst_lastname:\n",
    "    myidentity.append(letter)"
   ]
  },
  {
   "cell_type": "code",
   "execution_count": 7,
   "id": "08198f2c-fb27-48fe-a127-b6859b11af65",
   "metadata": {},
   "outputs": [
    {
     "data": {
      "text/plain": [
       "['E', 'm', 'm', 'a', 'n', 'u', 'e', 'l', ' ', 'O', 'k', 'o', 'h']"
      ]
     },
     "execution_count": 7,
     "metadata": {},
     "output_type": "execute_result"
    }
   ],
   "source": [
    "myidentity"
   ]
  },
  {
   "cell_type": "code",
   "execution_count": 8,
   "id": "1abe3e92-454c-43ed-85f7-e319fcf87ecd",
   "metadata": {},
   "outputs": [
    {
     "name": "stdout",
     "output_type": "stream",
     "text": [
      "['E', 'm', 'm', 'a', 'n', 'u', 'e', 'l', ' ', 'O', 'k', 'o', 'h']\n"
     ]
    }
   ],
   "source": [
    "myidentity = [letter for letter in myfirst_lastname]\n",
    "print(myidentity)"
   ]
  },
  {
   "cell_type": "code",
   "execution_count": 9,
   "id": "0425bfe5-7d1f-48c4-81a4-dd5583a60bfb",
   "metadata": {},
   "outputs": [],
   "source": [
    "drugs = 'Jamieson'"
   ]
  },
  {
   "cell_type": "code",
   "execution_count": 10,
   "id": "931da7b9-8f91-446e-9960-a5bd73f104bb",
   "metadata": {},
   "outputs": [],
   "source": [
    "meds = []\n",
    "\n",
    "for letter in drugs:\n",
    "    meds.append(letter)"
   ]
  },
  {
   "cell_type": "code",
   "execution_count": 11,
   "id": "7365cab8-76cb-415e-af4c-5c5b992ba5f2",
   "metadata": {},
   "outputs": [
    {
     "data": {
      "text/plain": [
       "['J', 'a', 'm', 'i', 'e', 's', 'o', 'n']"
      ]
     },
     "execution_count": 11,
     "metadata": {},
     "output_type": "execute_result"
    }
   ],
   "source": [
    "meds"
   ]
  },
  {
   "cell_type": "code",
   "execution_count": 12,
   "id": "bbd7263a-d600-49ff-9696-acddb23b9081",
   "metadata": {},
   "outputs": [
    {
     "name": "stdout",
     "output_type": "stream",
     "text": [
      "['J', 'a', 'm', 'i', 'e', 's', 'o', 'n']\n"
     ]
    }
   ],
   "source": [
    "meds = [letter for letter in drugs]\n",
    "print(meds)"
   ]
  },
  {
   "cell_type": "code",
   "execution_count": 13,
   "id": "abe114b2-a352-4220-8c6b-c3e323cd61ce",
   "metadata": {},
   "outputs": [],
   "source": [
    "dad = 'Chuks Okoh'"
   ]
  },
  {
   "cell_type": "code",
   "execution_count": 14,
   "id": "bd27c169-db0a-42a0-b5a4-81393d3f1f21",
   "metadata": {},
   "outputs": [],
   "source": [
    "dadname = []\n",
    "\n",
    "for letter in dad:\n",
    "    dadname.append(letter)"
   ]
  },
  {
   "cell_type": "code",
   "execution_count": 15,
   "id": "0bb953be-6d7a-4bd0-bd4e-87218878e0f4",
   "metadata": {},
   "outputs": [
    {
     "data": {
      "text/plain": [
       "['C', 'h', 'u', 'k', 's', ' ', 'O', 'k', 'o', 'h']"
      ]
     },
     "execution_count": 15,
     "metadata": {},
     "output_type": "execute_result"
    }
   ],
   "source": [
    "dadname"
   ]
  },
  {
   "cell_type": "code",
   "execution_count": 16,
   "id": "b77d44eb-f233-4304-80a0-aa7c54cb3c83",
   "metadata": {},
   "outputs": [
    {
     "name": "stdout",
     "output_type": "stream",
     "text": [
      "['C', 'h', 'u', 'k', 's', ' ', 'O', 'k', 'o', 'h']\n"
     ]
    }
   ],
   "source": [
    "dadname = [letter for letter in dad]\n",
    "print(dadname)"
   ]
  },
  {
   "cell_type": "code",
   "execution_count": 17,
   "id": "cf63eaf0-078e-45bd-b74c-824ab339a5ad",
   "metadata": {},
   "outputs": [],
   "source": [
    "food = 'Suya'"
   ]
  },
  {
   "cell_type": "code",
   "execution_count": 25,
   "id": "c19c60e2-ac4d-47d5-8d57-9f3efe85f6ee",
   "metadata": {},
   "outputs": [
    {
     "name": "stdout",
     "output_type": "stream",
     "text": [
      "['S', 'u', 'y', 'a']\n"
     ]
    }
   ],
   "source": [
    "meat = [ letter for letter in food]\n",
    "print(meat)"
   ]
  },
  {
   "cell_type": "code",
   "execution_count": 23,
   "id": "8818f2b5-4303-4d6f-8cec-84720100cfb5",
   "metadata": {},
   "outputs": [],
   "source": [
    "meat = []\n",
    "\n",
    "for letter in food:\n",
    "    meat.append(letter)"
   ]
  },
  {
   "cell_type": "code",
   "execution_count": 24,
   "id": "381234ea-e65a-426a-97f8-75995f7a2ed2",
   "metadata": {},
   "outputs": [
    {
     "data": {
      "text/plain": [
       "['S', 'u', 'y', 'a']"
      ]
     },
     "execution_count": 24,
     "metadata": {},
     "output_type": "execute_result"
    }
   ],
   "source": [
    "meat "
   ]
  },
  {
   "cell_type": "code",
   "execution_count": 27,
   "id": "8563c52d-31aa-4cf7-8490-f3723f13c3e9",
   "metadata": {},
   "outputs": [],
   "source": [
    "toilet = 'tissue'"
   ]
  },
  {
   "cell_type": "code",
   "execution_count": 28,
   "id": "53db8cef-ba9a-4fa9-bb81-758ba6f02e05",
   "metadata": {},
   "outputs": [
    {
     "name": "stdout",
     "output_type": "stream",
     "text": [
      "['t', 'i', 's', 's', 'u', 'e']\n"
     ]
    }
   ],
   "source": [
    "buy = [letter for letter in toilet]\n",
    "print(buy)"
   ]
  },
  {
   "cell_type": "code",
   "execution_count": 30,
   "id": "c52e5f93-e1e5-4e3b-9483-e470cc88e237",
   "metadata": {},
   "outputs": [],
   "source": [
    "buy = []\n",
    "\n",
    "for letter in toilet:\n",
    "    buy.append(letter)"
   ]
  },
  {
   "cell_type": "code",
   "execution_count": 31,
   "id": "b7fdb592-e24c-4bdb-91b9-3e9dca4d03af",
   "metadata": {},
   "outputs": [
    {
     "data": {
      "text/plain": [
       "['t', 'i', 's', 's', 'u', 'e']"
      ]
     },
     "execution_count": 31,
     "metadata": {},
     "output_type": "execute_result"
    }
   ],
   "source": [
    "buy"
   ]
  },
  {
   "cell_type": "code",
   "execution_count": 35,
   "id": "c2fd8643-e765-4121-900d-7b77b868a35b",
   "metadata": {},
   "outputs": [
    {
     "name": "stdout",
     "output_type": "stream",
     "text": [
      "[0, 1, 2, 3, 4, 5, 6, 7, 8, 9, 10]\n"
     ]
    }
   ],
   "source": [
    "mynum = [num for num in range(0,11)]\n",
    "print(mynum)"
   ]
  },
  {
   "cell_type": "code",
   "execution_count": 36,
   "id": "e53a36f2-b280-4353-a25f-6c9042d5fdc3",
   "metadata": {},
   "outputs": [],
   "source": [
    "items = ('Book', 2.26, 'Emmanuel', 50)"
   ]
  },
  {
   "cell_type": "code",
   "execution_count": 37,
   "id": "cf6e2d3d-2815-49f3-aa5a-0f513a3cffd9",
   "metadata": {},
   "outputs": [
    {
     "name": "stdout",
     "output_type": "stream",
     "text": [
      "['Book', 2.26, 'Emmanuel', 50]\n"
     ]
    }
   ],
   "source": [
    "sell = [item for item in items]\n",
    "print(sell)"
   ]
  },
  {
   "cell_type": "code",
   "execution_count": 39,
   "id": "e38887a0-fc58-4fa9-8184-d51481795224",
   "metadata": {},
   "outputs": [
    {
     "name": "stdout",
     "output_type": "stream",
     "text": [
      "['Book', 2.26, 'Emmanuel', 50]\n"
     ]
    }
   ],
   "source": [
    "sell = []\n",
    "\n",
    "for item in items:\n",
    "    sell.append(item)\n",
    "print(sell)    "
   ]
  },
  {
   "cell_type": "code",
   "execution_count": 41,
   "id": "d97030ee-2c2c-4c31-83bd-09db233cb360",
   "metadata": {},
   "outputs": [
    {
     "name": "stdout",
     "output_type": "stream",
     "text": [
      "[0, 1, 2, 3, 4, 5, 6, 7, 8, 9, 10, 11, 12, 13, 14, 15, 16, 17, 18, 19, 20]\n"
     ]
    }
   ],
   "source": [
    "digits = [num for num in range(0,21)]\n",
    "print(digits)"
   ]
  },
  {
   "cell_type": "code",
   "execution_count": 43,
   "id": "2add24d3-f0fb-4b70-b6bd-9a2a0d8a1817",
   "metadata": {},
   "outputs": [
    {
     "name": "stdout",
     "output_type": "stream",
     "text": [
      "[0, 2, 4, 6, 8, 10, 12, 14, 16, 18, 20, 22, 24, 26, 28]\n"
     ]
    }
   ],
   "source": [
    "digits = [num for num in range(0,30) if num % 2 == 0]\n",
    "print(digits)"
   ]
  },
  {
   "cell_type": "code",
   "execution_count": 45,
   "id": "5e5227ed-314c-4b0b-81c2-604c940e7b44",
   "metadata": {},
   "outputs": [
    {
     "name": "stdout",
     "output_type": "stream",
     "text": [
      "[1, 3, 5, 7, 9, 11, 13, 15, 17, 19, 21, 23, 25, 27, 29]\n"
     ]
    }
   ],
   "source": [
    "digits = [num for num in range(0,30) if num % 2 != 0]\n",
    "print(digits)"
   ]
  },
  {
   "cell_type": "code",
   "execution_count": 46,
   "id": "f7429fd2-7948-4dce-aacf-56defb60bb90",
   "metadata": {},
   "outputs": [
    {
     "name": "stdout",
     "output_type": "stream",
     "text": [
      "[91, 92, 93, 94, 95, 96, 97, 98, 99, 100]\n"
     ]
    }
   ],
   "source": [
    "digits = [num for num in range(0,101) if num >90]\n",
    "print(digits)"
   ]
  },
  {
   "cell_type": "code",
   "execution_count": 48,
   "id": "fc7ed3f1-f6e4-479b-bc29-5efff6655fe1",
   "metadata": {},
   "outputs": [
    {
     "name": "stdout",
     "output_type": "stream",
     "text": [
      "[0, 1]\n"
     ]
    }
   ],
   "source": [
    "digits = [num for num in range(0,21) if num < 2]\n",
    "print(digits)"
   ]
  },
  {
   "cell_type": "code",
   "execution_count": 50,
   "id": "59a56b97-81d1-4c0a-8c6e-56fa4833c1d9",
   "metadata": {},
   "outputs": [
    {
     "name": "stdout",
     "output_type": "stream",
     "text": [
      "[32.0, 50.0, 68.0, 94.1]\n"
     ]
    }
   ],
   "source": [
    "celcius = [0,10,20,34.5]\n",
    "\n",
    "fahrenheit = [((9/5)*temp + 32) for temp in celcius]\n",
    "print(fahrenheit)"
   ]
  },
  {
   "cell_type": "code",
   "execution_count": 52,
   "id": "88149ae5-c46a-4502-bc1b-923cf062f206",
   "metadata": {},
   "outputs": [
    {
     "name": "stdout",
     "output_type": "stream",
     "text": [
      "[32.0, 50.0, 68.0, 94.1]\n"
     ]
    }
   ],
   "source": [
    "fahrenheit = []\n",
    "\n",
    "for temp in celcius:\n",
    "    fahrenheit.append((9/5)*temp + 32)\n",
    "print(fahrenheit)    "
   ]
  },
  {
   "cell_type": "code",
   "execution_count": 60,
   "id": "4546012a-71c8-4e34-9300-bab9798e8a2e",
   "metadata": {},
   "outputs": [
    {
     "name": "stdout",
     "output_type": "stream",
     "text": [
      "number is greater than 5\n"
     ]
    }
   ],
   "source": [
    "digits = []\n",
    "\n",
    "# for num in range(0,13):\n",
    "#     if num > 5:\n",
    "#         print(num)\n",
    "\n",
    "\n",
    "if num > 5:\n",
    "    print('number is greater than 5')\n",
    "else:\n",
    "    print(num)"
   ]
  },
  {
   "cell_type": "code",
   "execution_count": null,
   "id": "412e1707-27c8-47c7-ba09-c223d94fe25e",
   "metadata": {},
   "outputs": [],
   "source": []
  }
 ],
 "metadata": {
  "kernelspec": {
   "display_name": "Python [conda env:base] *",
   "language": "python",
   "name": "conda-base-py"
  },
  "language_info": {
   "codemirror_mode": {
    "name": "ipython",
    "version": 3
   },
   "file_extension": ".py",
   "mimetype": "text/x-python",
   "name": "python",
   "nbconvert_exporter": "python",
   "pygments_lexer": "ipython3",
   "version": "3.12.7"
  }
 },
 "nbformat": 4,
 "nbformat_minor": 5
}
