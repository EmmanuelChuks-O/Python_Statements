{
 "cells": [
  {
   "cell_type": "markdown",
   "metadata": {
    "collapsed": true,
    "jupyter": {
     "outputs_hidden": true
    }
   },
   "source": [
    "# Statements Assessment Test\n",
    "Let's test your knowledge!"
   ]
  },
  {
   "cell_type": "markdown",
   "metadata": {},
   "source": [
    "_____\n",
    "**Use <code>for</code>, .split(), and <code>if</code> to create a Statement that will print out words that start with 's':**"
   ]
  },
  {
   "cell_type": "code",
   "execution_count": 34,
   "metadata": {},
   "outputs": [],
   "source": [
    "st = 'Print only the words that start with s in this sentence'"
   ]
  },
  {
   "cell_type": "code",
   "execution_count": 37,
   "metadata": {},
   "outputs": [
    {
     "name": "stdout",
     "output_type": "stream",
     "text": [
      "start\n",
      "s\n",
      "sentence\n"
     ]
    }
   ],
   "source": [
    "#Code here\n",
    "\n",
    "for word in st.split():\n",
    "    if word[0] == 's':\n",
    "        print(word)"
   ]
  },
  {
   "cell_type": "markdown",
   "metadata": {},
   "source": [
    "______\n",
    "**Use range() to print all the even numbers from 0 to 10.**"
   ]
  },
  {
   "cell_type": "code",
   "execution_count": 40,
   "metadata": {},
   "outputs": [
    {
     "name": "stdout",
     "output_type": "stream",
     "text": [
      "0\n",
      "2\n",
      "4\n",
      "6\n",
      "8\n",
      "10\n",
      "These numbers are even numbers\n"
     ]
    }
   ],
   "source": [
    "#Code Here\n",
    "\n",
    "for num in range(0,11,2):\n",
    "    print(num)\n",
    "print('These numbers are even numbers')    "
   ]
  },
  {
   "cell_type": "markdown",
   "metadata": {},
   "source": [
    "___\n",
    "**Use a List Comprehension to create a list of all numbers between 1 and 50 that are divisible by 3.**"
   ]
  },
  {
   "cell_type": "code",
   "execution_count": 42,
   "metadata": {},
   "outputs": [
    {
     "name": "stdout",
     "output_type": "stream",
     "text": [
      "[3, 6, 9, 12, 15, 18, 21, 24, 27, 30, 33, 36, 39, 42, 45, 48]\n"
     ]
    }
   ],
   "source": [
    "#Code in this cell\n",
    "digits = [num for num in range(1,51) if num % 3 == 0]\n",
    "print(digits)"
   ]
  },
  {
   "cell_type": "markdown",
   "metadata": {},
   "source": [
    "_____\n",
    "**Go through the string below and if the length of a word is even print \"even!\"**"
   ]
  },
  {
   "cell_type": "code",
   "execution_count": 45,
   "metadata": {},
   "outputs": [],
   "source": [
    "start = 'Print every word in this sentence that has an even number of letters'"
   ]
  },
  {
   "cell_type": "code",
   "execution_count": 48,
   "metadata": {},
   "outputs": [
    {
     "name": "stdout",
     "output_type": "stream",
     "text": [
      "word has a total of 4 words\n",
      "in has a total of 2 words\n",
      "this has a total of 4 words\n",
      "sentence has a total of 8 words\n",
      "that has a total of 4 words\n",
      "an has a total of 2 words\n",
      "even has a total of 4 words\n",
      "number has a total of 6 words\n",
      "of has a total of 2 words\n"
     ]
    }
   ],
   "source": [
    "#Code in this cell\n",
    "\n",
    "for word in start.split():\n",
    "    if len(word) % 2 == 0:\n",
    "        print(f'{word} has a total of {len(word)} words')"
   ]
  },
  {
   "cell_type": "markdown",
   "metadata": {},
   "source": [
    "____\n",
    "**Write a program that prints the integers from 1 to 100. But for multiples of three print \"Fizz\" instead of the number, and for the multiples of five print \"Buzz\". For numbers which are multiples of both three and five print \"FizzBuzz\".**"
   ]
  },
  {
   "cell_type": "code",
   "execution_count": 52,
   "metadata": {},
   "outputs": [
    {
     "name": "stdout",
     "output_type": "stream",
     "text": [
      "1\n",
      "2\n",
      "Fizz\n",
      "3\n",
      "4\n",
      "Buzz\n",
      "Fizz\n",
      "6\n",
      "7\n",
      "8\n",
      "Fizz\n",
      "9\n",
      "Buzz\n",
      "11\n",
      "Fizz\n",
      "12\n",
      "13\n",
      "14\n",
      "FizzBuzz\n",
      "Fizz\n",
      "Buzz\n",
      "16\n",
      "17\n",
      "Fizz\n",
      "18\n",
      "19\n",
      "Buzz\n",
      "Fizz\n",
      "21\n",
      "22\n",
      "23\n",
      "Fizz\n",
      "24\n",
      "Buzz\n",
      "26\n",
      "Fizz\n",
      "27\n",
      "28\n",
      "29\n",
      "FizzBuzz\n",
      "Fizz\n",
      "Buzz\n",
      "31\n",
      "32\n",
      "Fizz\n",
      "33\n",
      "34\n",
      "Buzz\n",
      "Fizz\n",
      "36\n",
      "37\n",
      "38\n",
      "Fizz\n",
      "39\n",
      "Buzz\n",
      "41\n",
      "Fizz\n",
      "42\n",
      "43\n",
      "44\n",
      "FizzBuzz\n",
      "Fizz\n",
      "Buzz\n",
      "46\n",
      "47\n",
      "Fizz\n",
      "48\n",
      "49\n",
      "Buzz\n",
      "Fizz\n",
      "51\n",
      "52\n",
      "53\n",
      "Fizz\n",
      "54\n",
      "Buzz\n",
      "56\n",
      "Fizz\n",
      "57\n",
      "58\n",
      "59\n",
      "FizzBuzz\n",
      "Fizz\n",
      "Buzz\n",
      "61\n",
      "62\n",
      "Fizz\n",
      "63\n",
      "64\n",
      "Buzz\n",
      "Fizz\n",
      "66\n",
      "67\n",
      "68\n",
      "Fizz\n",
      "69\n",
      "Buzz\n",
      "71\n",
      "Fizz\n",
      "72\n",
      "73\n",
      "74\n",
      "FizzBuzz\n",
      "Fizz\n",
      "Buzz\n",
      "76\n",
      "77\n",
      "Fizz\n",
      "78\n",
      "79\n",
      "Buzz\n",
      "Fizz\n",
      "81\n",
      "82\n",
      "83\n",
      "Fizz\n",
      "84\n",
      "Buzz\n",
      "86\n",
      "Fizz\n",
      "87\n",
      "88\n",
      "89\n",
      "FizzBuzz\n",
      "Fizz\n",
      "Buzz\n",
      "91\n",
      "92\n",
      "Fizz\n",
      "93\n",
      "94\n",
      "Buzz\n",
      "Fizz\n",
      "96\n",
      "97\n",
      "98\n",
      "Fizz\n",
      "99\n",
      "Buzz\n"
     ]
    }
   ],
   "source": [
    "#Code in this cell\n",
    "\n",
    "for num in range(1,101):\n",
    "    if num % 3 == 0 and num % 5 == 0:\n",
    "        print('FizzBuzz')\n",
    "    if num % 3 == 0:\n",
    "        print('Fizz')\n",
    "    if num % 5 == 0:\n",
    "        print('Buzz')\n",
    "    else:\n",
    "        print(num)"
   ]
  },
  {
   "cell_type": "markdown",
   "metadata": {},
   "source": [
    "____\n",
    "**Use List Comprehension to create a list of the first letters of every word in the string below:**"
   ]
  },
  {
   "cell_type": "code",
   "execution_count": 53,
   "metadata": {},
   "outputs": [],
   "source": [
    "studio = 'Create a list of the first letters of every word in this string'"
   ]
  },
  {
   "cell_type": "code",
   "execution_count": 56,
   "metadata": {},
   "outputs": [
    {
     "name": "stdout",
     "output_type": "stream",
     "text": [
      "['C', 'a', 'l', 'o', 't', 'f', 'l', 'o', 'e', 'w', 'i', 't', 's']\n"
     ]
    }
   ],
   "source": [
    "#Code in this cell\n",
    "\n",
    "new_list = [letter[0] for letter in studio.split()]\n",
    "print(new_list)"
   ]
  },
  {
   "cell_type": "markdown",
   "metadata": {},
   "source": [
    "### Great Job!"
   ]
  }
 ],
 "metadata": {
  "kernelspec": {
   "display_name": "Python [conda env:base] *",
   "language": "python",
   "name": "conda-base-py"
  },
  "language_info": {
   "codemirror_mode": {
    "name": "ipython",
    "version": 3
   },
   "file_extension": ".py",
   "mimetype": "text/x-python",
   "name": "python",
   "nbconvert_exporter": "python",
   "pygments_lexer": "ipython3",
   "version": "3.12.7"
  }
 },
 "nbformat": 4,
 "nbformat_minor": 4
}
