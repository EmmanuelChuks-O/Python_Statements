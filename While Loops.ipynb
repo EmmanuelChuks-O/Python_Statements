{
 "cells": [
  {
   "cell_type": "markdown",
   "id": "b9eb5575-5a89-4bee-a6b7-871a5e2e9309",
   "metadata": {},
   "source": [
    "while loop"
   ]
  },
  {
   "cell_type": "markdown",
   "id": "44a70b22-7b25-4be3-8226-40c503089ca6",
   "metadata": {},
   "source": [
    "while some_boolean_codition:\n",
    "    #do something"
   ]
  },
  {
   "cell_type": "code",
   "execution_count": 7,
   "id": "c440fb8d-a111-4c5f-9b62-276a0aeae817",
   "metadata": {},
   "outputs": [
    {
     "name": "stdout",
     "output_type": "stream",
     "text": [
      "x is greater than 5\n"
     ]
    }
   ],
   "source": [
    "x = 10\n",
    "\n",
    "while x < 5:\n",
    "    print(f'The current value of {x}')\n",
    "    x = x + 1\n",
    "else:\n",
    "    print('x is greater than 5')\n"
   ]
  },
  {
   "cell_type": "code",
   "execution_count": null,
   "id": "b2a28ed0-d48e-47aa-9cfb-219cc8d9f2b8",
   "metadata": {},
   "outputs": [],
   "source": []
  },
  {
   "cell_type": "markdown",
   "id": "ffa0e9bc-ed12-4fe9-b490-95f805d81300",
   "metadata": {},
   "source": [
    "pass: Does nothing at all."
   ]
  },
  {
   "cell_type": "code",
   "execution_count": 9,
   "id": "e60a8d2e-99dc-4ee1-acd4-c860d63c5c7e",
   "metadata": {},
   "outputs": [],
   "source": [
    "y = [1,2,3,4,5,6]\n",
    "\n",
    "for item in y:\n",
    "    pass"
   ]
  },
  {
   "cell_type": "markdown",
   "id": "21037d8c-1300-48a9-a77a-50f964d64bc2",
   "metadata": {},
   "source": [
    "continue: Goes to the top of the closest enclosing loop."
   ]
  },
  {
   "cell_type": "code",
   "execution_count": 19,
   "id": "3438c056-efbc-484a-936b-a0ca2fa4231a",
   "metadata": {},
   "outputs": [
    {
     "name": "stdout",
     "output_type": "stream",
     "text": [
      "E\n",
      "a\n",
      "n\n",
      "u\n",
      "e\n",
      "l\n",
      " \n",
      "k\n",
      "h\n"
     ]
    }
   ],
   "source": [
    "myname = 'Emmanuel okoh'\n",
    "\n",
    "for letter in myname:\n",
    "    if letter == 'm':\n",
    "        continue\n",
    "    if letter == 'o':  \n",
    "        continue\n",
    "    print(letter)"
   ]
  },
  {
   "cell_type": "markdown",
   "id": "30017f1a-a401-4cf0-8147-7da543cb2769",
   "metadata": {},
   "source": [
    "break: Breaks out of the current closest enclosing loop."
   ]
  },
  {
   "cell_type": "code",
   "execution_count": 26,
   "id": "951697b6-295c-4876-a698-0e34436c43be",
   "metadata": {},
   "outputs": [
    {
     "name": "stdout",
     "output_type": "stream",
     "text": [
      "E\n",
      "m\n",
      "m\n",
      "a\n",
      "n\n",
      "u\n"
     ]
    }
   ],
   "source": [
    "myname = 'Emmanuel okoh'\n",
    "\n",
    "for letter in myname:\n",
    "    if letter == 'e':\n",
    "        break\n",
    "    if letter == 'o':  \n",
    "        break\n",
    "    print(letter)"
   ]
  },
  {
   "cell_type": "code",
   "execution_count": null,
   "id": "2c72c0fb-d4d3-4fb0-a390-e4ea82020f25",
   "metadata": {},
   "outputs": [],
   "source": []
  },
  {
   "cell_type": "code",
   "execution_count": null,
   "id": "0a02ade9-9f34-4b69-aaa2-c1a1531c0b82",
   "metadata": {},
   "outputs": [],
   "source": []
  },
  {
   "cell_type": "code",
   "execution_count": null,
   "id": "29321d4c-4d69-4ccd-a49e-6a48d50e3424",
   "metadata": {},
   "outputs": [],
   "source": []
  },
  {
   "cell_type": "code",
   "execution_count": null,
   "id": "590ac96b-d37c-4f49-a1a6-f817dcae6757",
   "metadata": {},
   "outputs": [],
   "source": []
  }
 ],
 "metadata": {
  "kernelspec": {
   "display_name": "Python [conda env:base] *",
   "language": "python",
   "name": "conda-base-py"
  },
  "language_info": {
   "codemirror_mode": {
    "name": "ipython",
    "version": 3
   },
   "file_extension": ".py",
   "mimetype": "text/x-python",
   "name": "python",
   "nbconvert_exporter": "python",
   "pygments_lexer": "ipython3",
   "version": "3.12.7"
  }
 },
 "nbformat": 4,
 "nbformat_minor": 5
}
