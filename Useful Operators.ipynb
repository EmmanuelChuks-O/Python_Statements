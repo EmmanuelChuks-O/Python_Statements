{
 "cells": [
  {
   "cell_type": "markdown",
   "id": "2051bfb7-8e7f-4b64-ab0d-7bd4984f9405",
   "metadata": {},
   "source": [
    "Useful Operators"
   ]
  },
  {
   "cell_type": "markdown",
   "id": "03778bfa-b0ab-4a56-8c61-3ad8bdc19771",
   "metadata": {},
   "source": [
    "range"
   ]
  },
  {
   "cell_type": "code",
   "execution_count": 7,
   "id": "07bc25b4-6bf7-44c5-8c22-b3e19949c98f",
   "metadata": {},
   "outputs": [
    {
     "name": "stdout",
     "output_type": "stream",
     "text": [
      "3\n",
      "4\n",
      "5\n",
      "6\n",
      "7\n",
      "8\n",
      "9\n"
     ]
    }
   ],
   "source": [
    "mylist = [1,2,3,4,5,6,7,8,9,10]\n",
    "\n",
    "for num in range(3,10):\n",
    "    print(num)"
   ]
  },
  {
   "cell_type": "code",
   "execution_count": 9,
   "id": "a941bd18-7a60-4564-b71e-4aedaf2febd7",
   "metadata": {},
   "outputs": [
    {
     "name": "stdout",
     "output_type": "stream",
     "text": [
      "3\n",
      "5\n",
      "7\n",
      "9\n"
     ]
    }
   ],
   "source": [
    "mylist = [1,2,3,4,5,6,7,8,9,10]\n",
    "\n",
    "for num in range(3,10,2):\n",
    "    print(num)"
   ]
  },
  {
   "cell_type": "markdown",
   "id": "0e95c290-e0f6-4427-8ec2-825e70992ea3",
   "metadata": {},
   "source": [
    "enumerate"
   ]
  },
  {
   "cell_type": "code",
   "execution_count": 18,
   "id": "05900ef0-c57d-4bee-923b-9995c1379034",
   "metadata": {},
   "outputs": [
    {
     "name": "stdout",
     "output_type": "stream",
     "text": [
      "(0, 'E')\n",
      "(1, 'm')\n",
      "(2, 'm')\n",
      "(3, 'a')\n",
      "(4, 'n')\n",
      "(5, 'u')\n",
      "(6, 'e')\n",
      "(7, 'l')\n",
      "(8, ' ')\n",
      "(9, 'O')\n",
      "(10, 'k')\n",
      "(11, 'o')\n",
      "(12, 'h')\n"
     ]
    }
   ],
   "source": [
    "\n",
    "name = 'Emmanuel Okoh'\n",
    "for letter in enumerate(name):\n",
    "    print(letter)"
   ]
  },
  {
   "cell_type": "markdown",
   "id": "2e73439c-7ee3-4f30-bdd0-a41b9737c427",
   "metadata": {},
   "source": [
    "zip"
   ]
  },
  {
   "cell_type": "code",
   "execution_count": 20,
   "id": "ba555fdc-69df-421e-b0e8-7b5d928656bc",
   "metadata": {},
   "outputs": [],
   "source": [
    "mylist = [1,2,3,4,5,6,7,8,9,10]\n",
    "mylist2 = ['a','b','c','d','e','f','g','h','i','j']"
   ]
  },
  {
   "cell_type": "code",
   "execution_count": 23,
   "id": "25d80156-9db2-462d-be36-741c5cd8d014",
   "metadata": {},
   "outputs": [
    {
     "name": "stdout",
     "output_type": "stream",
     "text": [
      "(1, 'a')\n",
      "(2, 'b')\n",
      "(3, 'c')\n",
      "(4, 'd')\n",
      "(5, 'e')\n",
      "(6, 'f')\n",
      "(7, 'g')\n",
      "(8, 'h')\n",
      "(9, 'i')\n",
      "(10, 'j')\n"
     ]
    }
   ],
   "source": [
    "for item in zip(mylist,mylist2):\n",
    "    print(item)"
   ]
  },
  {
   "cell_type": "markdown",
   "id": "35aee0fa-9d3c-42fe-b549-34913a5bd413",
   "metadata": {},
   "source": [
    "in"
   ]
  },
  {
   "cell_type": "code",
   "execution_count": 24,
   "id": "588b7daa-f6f1-4dfe-845d-80b4a6ff74f0",
   "metadata": {},
   "outputs": [
    {
     "data": {
      "text/plain": [
       "False"
      ]
     },
     "execution_count": 24,
     "metadata": {},
     "output_type": "execute_result"
    }
   ],
   "source": [
    "'x' in [1,2,3]"
   ]
  },
  {
   "cell_type": "code",
   "execution_count": 25,
   "id": "94dba4ad-fb9d-4be0-8e80-106bdb209239",
   "metadata": {},
   "outputs": [
    {
     "data": {
      "text/plain": [
       "True"
      ]
     },
     "execution_count": 25,
     "metadata": {},
     "output_type": "execute_result"
    }
   ],
   "source": [
    "'x' in ['x','a','b']"
   ]
  },
  {
   "cell_type": "markdown",
   "id": "6bf2a4a6-9987-4686-8c50-71e3c0ae7328",
   "metadata": {},
   "source": [
    "minimum and maximum"
   ]
  },
  {
   "cell_type": "code",
   "execution_count": 29,
   "id": "e0edccb9-fe0d-40a1-9b48-0f66e2b56ced",
   "metadata": {},
   "outputs": [
    {
     "name": "stdout",
     "output_type": "stream",
     "text": [
      "1\n",
      "10\n"
     ]
    }
   ],
   "source": [
    "mylist = [1,2,3,4,5,6,7,8,9,10]\n",
    "\n",
    "print(min(mylist))\n",
    "print(max(mylist))"
   ]
  },
  {
   "cell_type": "markdown",
   "id": "835054c5-4b4b-4937-80a9-60159aa0e83e",
   "metadata": {},
   "source": [
    "random library"
   ]
  },
  {
   "cell_type": "code",
   "execution_count": 32,
   "id": "6f9a3838-ff55-4831-b5b8-28fe3a4b15af",
   "metadata": {},
   "outputs": [
    {
     "name": "stdout",
     "output_type": "stream",
     "text": [
      "['b', 'i', 'j', 'h', 'd', 'g', 'f', 'e', 'a', 'c']\n"
     ]
    }
   ],
   "source": [
    "from random import shuffle\n",
    "\n",
    "mylist2 = ['a','b','c','d','e','f','g','h','i','j']\n",
    "\n",
    "shuffle(mylist2)\n",
    "print(mylist2)"
   ]
  },
  {
   "cell_type": "code",
   "execution_count": 31,
   "id": "34567fb4-2e60-42c3-84e0-d2071567e66a",
   "metadata": {},
   "outputs": [
    {
     "data": {
      "text/plain": [
       "['b', 'a', 'f', 'g', 'e', 'd', 'j', 'h', 'i', 'c']"
      ]
     },
     "execution_count": 31,
     "metadata": {},
     "output_type": "execute_result"
    }
   ],
   "source": [
    "mylist2"
   ]
  },
  {
   "cell_type": "code",
   "execution_count": 34,
   "id": "f6ded82f-6e4a-4921-873b-9cd4e21705ba",
   "metadata": {},
   "outputs": [
    {
     "data": {
      "text/plain": [
       "9"
      ]
     },
     "execution_count": 34,
     "metadata": {},
     "output_type": "execute_result"
    }
   ],
   "source": [
    "from random import randint\n",
    "\n",
    "randint(0,100)"
   ]
  },
  {
   "cell_type": "markdown",
   "id": "9bd2721e-e468-4764-9d35-030747bb6418",
   "metadata": {},
   "source": [
    "input"
   ]
  },
  {
   "cell_type": "code",
   "execution_count": 36,
   "id": "828db2c8-0cc9-40fc-99cb-e15d6060b9e4",
   "metadata": {},
   "outputs": [
    {
     "name": "stdin",
     "output_type": "stream",
     "text": [
      "Enter your name here: Emmanuel Okoh\n"
     ]
    }
   ],
   "source": [
    "full_name = input('Enter your name here:')"
   ]
  },
  {
   "cell_type": "code",
   "execution_count": 37,
   "id": "7e51c606-0487-4480-9da5-683fb40e2fb9",
   "metadata": {},
   "outputs": [
    {
     "data": {
      "text/plain": [
       "'Emmanuel Okoh'"
      ]
     },
     "execution_count": 37,
     "metadata": {},
     "output_type": "execute_result"
    }
   ],
   "source": [
    "full_name"
   ]
  },
  {
   "cell_type": "code",
   "execution_count": null,
   "id": "d7b51511-c69d-4493-bf40-f7df4a02acb8",
   "metadata": {},
   "outputs": [],
   "source": []
  }
 ],
 "metadata": {
  "kernelspec": {
   "display_name": "Python [conda env:base] *",
   "language": "python",
   "name": "conda-base-py"
  },
  "language_info": {
   "codemirror_mode": {
    "name": "ipython",
    "version": 3
   },
   "file_extension": ".py",
   "mimetype": "text/x-python",
   "name": "python",
   "nbconvert_exporter": "python",
   "pygments_lexer": "ipython3",
   "version": "3.12.7"
  }
 },
 "nbformat": 4,
 "nbformat_minor": 5
}
