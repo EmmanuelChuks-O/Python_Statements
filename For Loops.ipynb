{
 "cells": [
  {
   "cell_type": "markdown",
   "id": "a7228d0e-4212-4353-9dff-9782fa92b86d",
   "metadata": {},
   "source": [
    "for Loops"
   ]
  },
  {
   "cell_type": "code",
   "execution_count": 1,
   "id": "346df4c5-9cfc-482e-9439-77929cd6f718",
   "metadata": {},
   "outputs": [
    {
     "name": "stdout",
     "output_type": "stream",
     "text": [
      "1\n",
      "Emmanuel\n",
      "29\n",
      "Okoh\n",
      "Toronto\n",
      "30.25\n"
     ]
    }
   ],
   "source": [
    "my_iterable = [1,'Emmanuel', 29, 'Okoh', 'Toronto', 30.25]\n",
    "\n",
    "for item in my_iterable:\n",
    "    print(item)\n"
   ]
  },
  {
   "cell_type": "code",
   "execution_count": 4,
   "id": "7261fb33-15d1-45bd-973b-30bed523998e",
   "metadata": {},
   "outputs": [
    {
     "name": "stdout",
     "output_type": "stream",
     "text": [
      "Tv\n",
      "Blender\n",
      "Tissue\n",
      "Pot\n",
      "Chairs\n",
      "Bed\n"
     ]
    }
   ],
   "source": [
    "items_in_the_house = ('Tv', 'Blender', 'Tissue', 'Pot', 'Chairs', 'Bed')\n",
    "\n",
    "for item in items_in_the_house:\n",
    "    print(item)"
   ]
  },
  {
   "cell_type": "code",
   "execution_count": 5,
   "id": "f8e63295-d049-4642-98f0-8893269d3a71",
   "metadata": {},
   "outputs": [
    {
     "name": "stdout",
     "output_type": "stream",
     "text": [
      "Desk\n",
      "Chair\n",
      "Computer\n",
      "Printer\n",
      "Stapler\n",
      "Notebook\n",
      "Telephone\n",
      "Whiteboard\n",
      "Pen\n",
      "Filing cabinet\n"
     ]
    }
   ],
   "source": [
    "office_items = ['Desk', 'Chair', 'Computer', 'Printer', 'Stapler', 'Notebook', 'Telephone', 'Whiteboard', 'Pen', 'Filing cabinet']\n",
    "\n",
    "for item in office_items:\n",
    "    print(item)"
   ]
  },
  {
   "cell_type": "code",
   "execution_count": 21,
   "id": "17d6556b-63a7-411b-b2da-8ceb88515c84",
   "metadata": {},
   "outputs": [
    {
     "name": "stdout",
     "output_type": "stream",
     "text": [
      "Apple : $1.25\n",
      "Bread : $2.80\n",
      "Milk : $3.45\n",
      "Cheese : $4.90\n",
      "Rice : $6.10\n",
      "Chicken : $8.75\n",
      "Orange Juice : $3.99\n",
      "Banana : $0.99\n",
      "Pasta : $2.50\n",
      "Yogurt : $1.60\n"
     ]
    }
   ],
   "source": [
    "grocery = {'Apple': '$1.25', 'Bread': '$2.80', 'Milk': '$3.45', 'Cheese': '$4.90', 'Rice': '$6.10', 'Chicken': '$8.75', 'Orange Juice': '$3.99', 'Banana': '$0.99', 'Pasta': '$2.50', 'Yogurt': '$1.60'}\n",
    "\n",
    "for key,value in grocery.items():\n",
    "    print(f'{key} : {value}')"
   ]
  },
  {
   "cell_type": "code",
   "execution_count": 28,
   "id": "707a5497-c28e-47a6-89b5-cff5aa603df9",
   "metadata": {},
   "outputs": [
    {
     "name": "stdout",
     "output_type": "stream",
     "text": [
      "1\n",
      "2\n",
      "3\n",
      "4\n",
      "5\n",
      "6\n",
      "7\n",
      "8\n",
      "9\n",
      "10\n",
      "11\n",
      "12\n",
      "13\n",
      "14\n",
      "15\n",
      "16\n",
      "17\n",
      "18\n",
      "19\n",
      "20\n"
     ]
    }
   ],
   "source": [
    "mylist = [1,2,3,4,5,6,7,8,9,10,11,12,13,14,15,16,17,18,19,20]\n",
    "\n",
    "for num in mylist:\n",
    "    print(num)"
   ]
  },
  {
   "cell_type": "code",
   "execution_count": 29,
   "id": "55bf3119-8b57-41f7-92a9-68301a35be29",
   "metadata": {},
   "outputs": [
    {
     "name": "stdout",
     "output_type": "stream",
     "text": [
      "2\n",
      "4\n",
      "6\n",
      "8\n",
      "10\n",
      "12\n",
      "14\n",
      "16\n",
      "18\n",
      "20\n",
      "These are all even numbers\n"
     ]
    }
   ],
   "source": [
    "for num in mylist:\n",
    "    if num % 2 == 0:\n",
    "        print(num)\n",
    "print('These are all even numbers')"
   ]
  },
  {
   "cell_type": "code",
   "execution_count": 31,
   "id": "528d20d1-8e4e-40db-aa22-b596f5688727",
   "metadata": {},
   "outputs": [
    {
     "name": "stdout",
     "output_type": "stream",
     "text": [
      "E\n",
      "m\n",
      "m\n",
      "a\n",
      "n\n",
      "u\n",
      "e\n",
      "l\n",
      " \n",
      "O\n",
      "k\n",
      "o\n",
      "h\n",
      "13\n"
     ]
    }
   ],
   "source": [
    "name = 'Emmanuel Okoh'\n",
    "\n",
    "for letter in name:\n",
    "    print(letter)\n",
    "print(f'{len(name)}')    "
   ]
  },
  {
   "cell_type": "code",
   "execution_count": 32,
   "id": "c71cd1fb-36a1-47dc-9e12-dc99325837dd",
   "metadata": {},
   "outputs": [
    {
     "name": "stdout",
     "output_type": "stream",
     "text": [
      "1\n",
      "2\n",
      "3\n"
     ]
    }
   ],
   "source": [
    "tup = (1,2,3)\n",
    "\n",
    "for item in tup:\n",
    "    print(item)"
   ]
  },
  {
   "cell_type": "code",
   "execution_count": 41,
   "id": "ffc10f47-05c1-4730-bf99-af48d02de831",
   "metadata": {},
   "outputs": [],
   "source": [
    "mylist = [(1,2), (3,4), (5,6), (7,8), (9,10)]"
   ]
  },
  {
   "cell_type": "code",
   "execution_count": 42,
   "id": "e1ebc89e-4d7b-4fc7-bf35-83261ed509d7",
   "metadata": {},
   "outputs": [
    {
     "data": {
      "text/plain": [
       "5"
      ]
     },
     "execution_count": 42,
     "metadata": {},
     "output_type": "execute_result"
    }
   ],
   "source": [
    "len(mylist)"
   ]
  },
  {
   "cell_type": "code",
   "execution_count": 45,
   "id": "5212f490-84d7-4474-bce8-c66c8ae3a967",
   "metadata": {},
   "outputs": [
    {
     "name": "stdout",
     "output_type": "stream",
     "text": [
      "(1, 2)\n",
      "(3, 4)\n",
      "(5, 6)\n",
      "(7, 8)\n",
      "(9, 10)\n"
     ]
    }
   ],
   "source": [
    "for item in mylist:\n",
    "    print(item)"
   ]
  },
  {
   "cell_type": "code",
   "execution_count": 47,
   "id": "a57e2a88-db2c-4e8e-900f-899a4c5e74f7",
   "metadata": {},
   "outputs": [
    {
     "name": "stdout",
     "output_type": "stream",
     "text": [
      "1\n",
      "2\n",
      "3\n",
      "4\n",
      "5\n",
      "6\n",
      "7\n",
      "8\n",
      "9\n",
      "10\n"
     ]
    }
   ],
   "source": [
    "for (a,b) in mylist:\n",
    "    print(a)\n",
    "    print(b)\n"
   ]
  },
  {
   "cell_type": "code",
   "execution_count": 48,
   "id": "6f31adeb-6cb5-465a-8609-de1b48c51bd1",
   "metadata": {},
   "outputs": [],
   "source": [
    "shoppers = {'Apple': '$1.25', 'Bread': '$2.80', 'Milk': '$3.45', 'Cheese': '$4.90', 'Rice': '$6.10', 'Chicken': '$8.75'}"
   ]
  },
  {
   "cell_type": "code",
   "execution_count": 49,
   "id": "00bffa84-f4c6-48a9-8126-f5092102701d",
   "metadata": {},
   "outputs": [
    {
     "name": "stdout",
     "output_type": "stream",
     "text": [
      "Apple\n",
      "Bread\n",
      "Milk\n",
      "Cheese\n",
      "Rice\n",
      "Chicken\n"
     ]
    }
   ],
   "source": [
    "for item in shoppers:\n",
    "    print(item)"
   ]
  },
  {
   "cell_type": "code",
   "execution_count": 56,
   "id": "d08ffec6-2535-4940-80e1-38cdc34cfa9a",
   "metadata": {},
   "outputs": [
    {
     "name": "stdout",
     "output_type": "stream",
     "text": [
      "Apple : $1.25\n",
      "Bread : $2.80\n",
      "Milk : $3.45\n",
      "Cheese : $4.90\n",
      "Rice : $6.10\n",
      "Chicken : $8.75\n"
     ]
    }
   ],
   "source": [
    "for key,value in shoppers.items():\n",
    "    print(f'{key} : {value}')"
   ]
  },
  {
   "cell_type": "code",
   "execution_count": null,
   "id": "b00d85e4-43a3-417b-8e26-ef0caca7d2a5",
   "metadata": {},
   "outputs": [],
   "source": []
  },
  {
   "cell_type": "code",
   "execution_count": null,
   "id": "d3374bce-8ae4-4604-992b-6a295873ed10",
   "metadata": {},
   "outputs": [],
   "source": []
  },
  {
   "cell_type": "code",
   "execution_count": null,
   "id": "e3f1e188-c91b-474d-9fbd-7f1501eca150",
   "metadata": {},
   "outputs": [],
   "source": []
  }
 ],
 "metadata": {
  "kernelspec": {
   "display_name": "Python [conda env:base] *",
   "language": "python",
   "name": "conda-base-py"
  },
  "language_info": {
   "codemirror_mode": {
    "name": "ipython",
    "version": 3
   },
   "file_extension": ".py",
   "mimetype": "text/x-python",
   "name": "python",
   "nbconvert_exporter": "python",
   "pygments_lexer": "ipython3",
   "version": "3.12.7"
  }
 },
 "nbformat": 4,
 "nbformat_minor": 5
}
